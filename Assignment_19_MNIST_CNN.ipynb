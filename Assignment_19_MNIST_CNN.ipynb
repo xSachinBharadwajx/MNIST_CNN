{
 "cells": [
  {
   "cell_type": "code",
   "execution_count": 1,
   "metadata": {
    "colab": {
     "base_uri": "https://localhost:8080/",
     "height": 34
    },
    "colab_type": "code",
    "id": "pm5dEjGp2ko3",
    "outputId": "f5cf970b-7333-4ee0-e057-210f929f0099"
   },
   "outputs": [
    {
     "name": "stderr",
     "output_type": "stream",
     "text": [
      "Using TensorFlow backend.\n"
     ]
    }
   ],
   "source": [
    "import warnings\n",
    "warnings.filterwarnings(\"ignore\")\n",
    "from keras.datasets import mnist\n",
    "from keras.models import Sequential\n",
    "from keras.layers import Dense, Dropout, Flatten\n",
    "from keras.layers import Conv2D, MaxPooling2D\n",
    "from keras import backend as K\n",
    "import matplotlib.pyplot as plt  \n",
    "from keras.utils import np_utils \n",
    "from sklearn import preprocessing\n",
    "import seaborn as sns\n",
    "from keras.layers.normalization import BatchNormalization\n",
    "from numpy import newaxis\n",
    "%matplotlib inline"
   ]
  },
  {
   "cell_type": "markdown",
   "metadata": {
    "colab_type": "text",
    "id": "Np46TNsD2ko9"
   },
   "source": [
    "### Set important variables "
   ]
  },
  {
   "cell_type": "code",
   "execution_count": 0,
   "metadata": {
    "colab": {},
    "colab_type": "code",
    "id": "I5O6o6g42ko-"
   },
   "outputs": [],
   "source": [
    "batch_size = 128\n",
    "num_classes = 10\n",
    "epochs = 12\n",
    "\n",
    "# input image dimensions\n",
    "img_rows, img_cols = 28, 28"
   ]
  },
  {
   "cell_type": "markdown",
   "metadata": {
    "colab_type": "text",
    "id": "LVO9GFEE2kpB"
   },
   "source": [
    "### Split the data into train and test "
   ]
  },
  {
   "cell_type": "code",
   "execution_count": 0,
   "metadata": {
    "colab": {},
    "colab_type": "code",
    "id": "E5rriYeb2kpC"
   },
   "outputs": [],
   "source": [
    "(x_train, y_train), (x_test, y_test) = mnist.load_data()"
   ]
  },
  {
   "cell_type": "code",
   "execution_count": 4,
   "metadata": {
    "colab": {
     "base_uri": "https://localhost:8080/",
     "height": 51
    },
    "colab_type": "code",
    "id": "OFMDqkiO2kpF",
    "outputId": "555a6526-147b-44ce-8829-cfce6f665357"
   },
   "outputs": [
    {
     "name": "stdout",
     "output_type": "stream",
     "text": [
      "(60000, 28, 28)\n",
      "(28, 28)\n"
     ]
    }
   ],
   "source": [
    "print(x_train.shape)\n",
    "print(x_train[0].shape)"
   ]
  },
  {
   "cell_type": "code",
   "execution_count": 0,
   "metadata": {
    "colab": {},
    "colab_type": "code",
    "id": "9g7HRue-2kpJ"
   },
   "outputs": [],
   "source": [
    "if K.image_data_format() == 'channelsa_first':\n",
    "    x_train = x_train.reshape(x_train.shape[0], 1, img_rows, img_cols)\n",
    "    x_test = x_test.reshape(x_test.shape[0], 1, img_rows, img_cols)\n",
    "    input_shape = (1, img_rows, img_cols)\n",
    "else:\n",
    "    x_train = x_train.reshape(x_train.shape[0], img_rows, img_cols, 1)\n",
    "    x_test = x_test.reshape(x_test.shape[0], img_rows, img_cols, 1)\n",
    "    input_shape = (img_rows, img_cols, 1)"
   ]
  },
  {
   "cell_type": "code",
   "execution_count": 6,
   "metadata": {
    "colab": {
     "base_uri": "https://localhost:8080/",
     "height": 51
    },
    "colab_type": "code",
    "id": "ND9bKWYl2kpM",
    "outputId": "3a4917a9-340d-48b8-e8af-5ef3b2f93884"
   },
   "outputs": [
    {
     "name": "stdout",
     "output_type": "stream",
     "text": [
      "(60000, 28, 28, 1)\n",
      "(28, 28, 1)\n"
     ]
    }
   ],
   "source": [
    "print(x_train.shape)\n",
    "print(x_train[0].shape)"
   ]
  },
  {
   "cell_type": "markdown",
   "metadata": {
    "colab_type": "text",
    "id": "6VB4TEtnA_93"
   },
   "source": [
    "### Lets visualize the data "
   ]
  },
  {
   "cell_type": "code",
   "execution_count": 7,
   "metadata": {
    "colab": {
     "base_uri": "https://localhost:8080/",
     "height": 647
    },
    "colab_type": "code",
    "id": "eP00MS_8-5Hh",
    "outputId": "e5a07bf8-a22f-4c50-b3ad-5e8044d2d743"
   },
   "outputs": [
    {
     "data": {
      "image/png": "[encoded data removed]",
      "text/plain": [
       "<Figure size 432x288 with 1 Axes>"
      ]
     },
     "metadata": {
      "tags": []
     },
     "output_type": "display_data"
    },
    {
     "data": {
      "image/png": "[encoded data removed]",
      "text/plain": [
       "<Figure size 432x288 with 1 Axes>"
      ]
     },
     "metadata": {
      "tags": []
     },
     "output_type": "display_data"
    },
    {
     "data": {
      "image/png": "[encoded data removed]",
      "text/plain": [
       "<Figure size 432x288 with 1 Axes>"
      ]
     },
     "metadata": {
      "tags": []
     },
     "output_type": "display_data"
    },
    {
     "data": {
      "image/png": "[encoded data removed]",
      "text/plain": [
       "<Figure size 432x288 with 1 Axes>"
      ]
     },
     "metadata": {
      "tags": []
     },
     "output_type": "display_data"
    },
    {
     "data": {
      "image/png": "[encoded data removed]",
      "text/plain": [
       "<Figure size 432x288 with 1 Axes>"
      ]
     },
     "metadata": {
      "tags": []
     },
     "output_type": "display_data"
    },
    {
     "data": {
      "image/png": "[encoded data removed]",
      "text/plain": [
       "<Figure size 432x288 with 1 Axes>"
      ]
     },
     "metadata": {
      "tags": []
     },
     "output_type": "display_data"
    },
    {
     "data": {
      "image/png": "[encoded data removed]",
      "text/plain": [
       "<Figure size 432x288 with 1 Axes>"
      ]
     },
     "metadata": {
      "tags": []
     },
     "output_type": "display_data"
    },
    {
     "data": {
      "image/png": "[encoded data removed]",
      "text/plain": [
       "<Figure size 432x288 with 1 Axes>"
      ]
     },
     "metadata": {
      "tags": []
     },
     "output_type": "display_data"
    },
    {
     "data": {
      "image/png": "[encoded data removed]",
      "text/plain": [
       "<Figure size 432x288 with 1 Axes>"
      ]
     },
     "metadata": {
      "tags": []
     },
     "output_type": "display_data"
    },
    {
     "data": {
      "image/png": "[encoded data removed]",
      "text/plain": [
       "<Figure size 432x288 with 1 Axes>"
      ]
     },
     "metadata": {
      "tags": []
     },
     "output_type": "display_data"
    }
   ],
   "source": [
    "for i in range(10):\n",
    "  plt.subplot(1,10,i+1)\n",
    "  #plt.imshow(x_train[i])\n",
    "  plt.imshow(x_train[i].reshape(28,28))\n",
    "  plt.show()\n",
    "  \n"
   ]
  },
  {
   "cell_type": "markdown",
   "metadata": {
    "colab_type": "text",
    "id": "hYiuSgEDInkR"
   },
   "source": [
    "### One hot encode the outputs: \n",
    "    \n",
    "\n",
    "*   Actual label: 5\n",
    "*   Encode lable = [0 0 0 0 0 1 0 0 0 0]\n",
    "\n"
   ]
  },
  {
   "cell_type": "code",
   "execution_count": 8,
   "metadata": {
    "colab": {
     "base_uri": "https://localhost:8080/",
     "height": 51
    },
    "colab_type": "code",
    "id": "o3JIm-XiLqqE",
    "outputId": "8c2d9c21-ae2e-4484-8539-2815d331382f"
   },
   "outputs": [
    {
     "name": "stdout",
     "output_type": "stream",
     "text": [
      "5\n",
      "[0. 0. 0. 0. 0. 1. 0. 0. 0. 0.]\n"
     ]
    }
   ],
   "source": [
    "print(y_train[0])\n",
    "\n",
    "\n",
    "y_train=np_utils.to_categorical(y_train)\n",
    "y_test=np_utils.to_categorical(y_test)\n",
    "\n",
    "\n",
    "print(y_train[0])\n"
   ]
  },
  {
   "cell_type": "markdown",
   "metadata": {
    "colab_type": "text",
    "id": "NO8OSRaN2kpb"
   },
   "source": [
    "### Norrmalize your Inputs"
   ]
  },
  {
   "cell_type": "code",
   "execution_count": 9,
   "metadata": {
    "colab": {
     "base_uri": "https://localhost:8080/",
     "height": 68
    },
    "colab_type": "code",
    "id": "dwDzlne42kpc",
    "outputId": "4e81264e-002e-4dcf-b236-eb500f36d075"
   },
   "outputs": [
    {
     "name": "stdout",
     "output_type": "stream",
     "text": [
      "x_train shape: (60000, 28, 28, 1)\n",
      "60000 train samples\n",
      "10000 test samples\n"
     ]
    }
   ],
   "source": [
    "x_train = x_train.astype('float32')\n",
    "x_test = x_test.astype('float32')\n",
    "x_train /= 255\n",
    "x_test /= 255\n",
    "print('x_train shape:', x_train.shape)\n",
    "print(x_train.shape[0], 'train samples')\n",
    "print(x_test.shape[0], 'test samples')"
   ]
  },
  {
   "cell_type": "markdown",
   "metadata": {
    "colab_type": "text",
    "id": "iC3UYvc32kpf"
   },
   "source": [
    "### Build the Convoutional NN"
   ]
  },
  {
   "cell_type": "code",
   "execution_count": 10,
   "metadata": {
    "colab": {
     "base_uri": "https://localhost:8080/",
     "height": 717
    },
    "colab_type": "code",
    "id": "KUCYa7AZ2kph",
    "outputId": "00690947-ef53-485e-e1a9-f6cf9bcc1658"
   },
   "outputs": [
    {
     "name": "stderr",
     "output_type": "stream",
     "text": [
      "WARNING: Logging before flag parsing goes to stderr.\n",
      "W0615 16:40:19.924594 139738565678976 deprecation_wrapper.py:119] From /usr/local/lib/python3.6/dist-packages/keras/backend/tensorflow_backend.py:74: The name tf.get_default_graph is deprecated. Please use tf.compat.v1.get_default_graph instead.\n",
      "\n",
      "W0615 16:40:19.944845 139738565678976 deprecation_wrapper.py:119] From /usr/local/lib/python3.6/dist-packages/keras/backend/tensorflow_backend.py:517: The name tf.placeholder is deprecated. Please use tf.compat.v1.placeholder instead.\n",
      "\n",
      "W0615 16:40:19.947804 139738565678976 deprecation_wrapper.py:119] From /usr/local/lib/python3.6/dist-packages/keras/backend/tensorflow_backend.py:4138: The name tf.random_uniform is deprecated. Please use tf.random.uniform instead.\n",
      "\n",
      "W0615 16:40:19.978451 139738565678976 deprecation_wrapper.py:119] From /usr/local/lib/python3.6/dist-packages/keras/backend/tensorflow_backend.py:3976: The name tf.nn.max_pool is deprecated. Please use tf.nn.max_pool2d instead.\n",
      "\n",
      "W0615 16:40:19.981363 139738565678976 deprecation_wrapper.py:119] From /usr/local/lib/python3.6/dist-packages/keras/backend/tensorflow_backend.py:133: The name tf.placeholder_with_default is deprecated. Please use tf.compat.v1.placeholder_with_default instead.\n",
      "\n",
      "W0615 16:40:19.991363 139738565678976 deprecation.py:506] From /usr/local/lib/python3.6/dist-packages/keras/backend/tensorflow_backend.py:3445: calling dropout (from tensorflow.python.ops.nn_ops) with keep_prob is deprecated and will be removed in a future version.\n",
      "Instructions for updating:\n",
      "Please use `rate` instead of `keep_prob`. Rate should be set to `rate = 1 - keep_prob`.\n"
     ]
    },
    {
     "name": "stdout",
     "output_type": "stream",
     "text": [
      "_________________________________________________________________\n",
      "Layer (type)                 Output Shape              Param #   \n",
      "=================================================================\n",
      "conv2d_1 (Conv2D)            (None, 26, 26, 32)        320       \n",
      "_________________________________________________________________\n",
      "conv2d_2 (Conv2D)            (None, 24, 24, 64)        18496     \n",
      "_________________________________________________________________\n",
      "max_pooling2d_1 (MaxPooling2 (None, 12, 12, 64)        0         \n",
      "_________________________________________________________________\n",
      "dropout_1 (Dropout)          (None, 12, 12, 64)        0         \n",
      "_________________________________________________________________\n",
      "flatten_1 (Flatten)          (None, 9216)              0         \n",
      "_________________________________________________________________\n",
      "dense_1 (Dense)              (None, 128)               1179776   \n",
      "_________________________________________________________________\n",
      "dropout_2 (Dropout)          (None, 128)               0         \n",
      "_________________________________________________________________\n",
      "dense_2 (Dense)              (None, 10)                1290      \n",
      "=================================================================\n",
      "Total params: 1,199,882\n",
      "Trainable params: 1,199,882\n",
      "Non-trainable params: 0\n",
      "_________________________________________________________________\n"
     ]
    },
    {
     "name": "stderr",
     "output_type": "stream",
     "text": [
      "/usr/local/lib/python3.6/dist-packages/ipykernel_launcher.py:13: UserWarning: Update your `Dense` call to the Keras 2 API: `Dense(activation=\"relu\", units=128)`\n",
      "  del sys.path[0]\n",
      "/usr/local/lib/python3.6/dist-packages/ipykernel_launcher.py:17: UserWarning: Update your `Dense` call to the Keras 2 API: `Dense(activation=\"softmax\", units=10)`\n"
     ]
    }
   ],
   "source": [
    "model = Sequential()\n",
    "\n",
    "#bottle neck model\n",
    "model.add(Conv2D(filters=32 ,input_shape=input_shape , kernel_size=(3, 3),activation='relu'))\n",
    "model.add(Conv2D(filters=64, kernel_size=(3, 3), activation='relu'))\n",
    "model.add(MaxPooling2D(pool_size=(2, 2)))\n",
    "model.add(Dropout(0.5))\n",
    "\n",
    "#Flatten the input data\n",
    "model.add(Flatten())\n",
    "\n",
    "#Neural Network\n",
    "model.add(Dense(output_dim=128, activation='relu'))\n",
    "model.add(Dropout(0.5))\n",
    "\n",
    "#Softmax classifier\n",
    "model.add(Dense(output_dim=num_classes, activation='softmax'))\n",
    "\n",
    "model.summary()\n"
   ]
  },
  {
   "cell_type": "code",
   "execution_count": 11,
   "metadata": {
    "colab": {
     "base_uri": "https://localhost:8080/",
     "height": 853
    },
    "colab_type": "code",
    "id": "1p8s-1oG2kpl",
    "outputId": "6e5159d9-0e5b-43f6-c6d0-9a1c2dd08599"
   },
   "outputs": [
    {
     "name": "stderr",
     "output_type": "stream",
     "text": [
      "W0615 16:40:20.074987 139738565678976 deprecation_wrapper.py:119] From /usr/local/lib/python3.6/dist-packages/keras/optimizers.py:790: The name tf.train.Optimizer is deprecated. Please use tf.compat.v1.train.Optimizer instead.\n",
      "\n",
      "W0615 16:40:20.101289 139738565678976 deprecation_wrapper.py:119] From /usr/local/lib/python3.6/dist-packages/keras/backend/tensorflow_backend.py:3295: The name tf.log is deprecated. Please use tf.math.log instead.\n",
      "\n",
      "W0615 16:40:20.189375 139738565678976 deprecation.py:323] From /usr/local/lib/python3.6/dist-packages/tensorflow/python/ops/math_grad.py:1250: add_dispatch_support.<locals>.wrapper (from tensorflow.python.ops.array_ops) is deprecated and will be removed in a future version.\n",
      "Instructions for updating:\n",
      "Use tf.where in 2.0, which has the same broadcast rule as np.where\n"
     ]
    },
    {
     "name": "stdout",
     "output_type": "stream",
     "text": [
      "Train on 60000 samples, validate on 10000 samples\n",
      "Epoch 1/20\n",
      "60000/60000 [==============================] - 8s 138us/step - loss: 0.2425 - acc: 0.9247 - val_loss: 0.0534 - val_acc: 0.9823\n",
      "Epoch 2/20\n",
      "60000/60000 [==============================] - 5s 82us/step - loss: 0.0956 - acc: 0.9721 - val_loss: 0.0444 - val_acc: 0.9851\n",
      "Epoch 3/20\n",
      "60000/60000 [==============================] - 5s 83us/step - loss: 0.0722 - acc: 0.9783 - val_loss: 0.0361 - val_acc: 0.9882\n",
      "Epoch 4/20\n",
      "60000/60000 [==============================] - 5s 82us/step - loss: 0.0622 - acc: 0.9813 - val_loss: 0.0319 - val_acc: 0.9901\n",
      "Epoch 5/20\n",
      "60000/60000 [==============================] - 5s 82us/step - loss: 0.0549 - acc: 0.9833 - val_loss: 0.0312 - val_acc: 0.9900\n",
      "Epoch 6/20\n",
      "60000/60000 [==============================] - 5s 82us/step - loss: 0.0487 - acc: 0.9847 - val_loss: 0.0297 - val_acc: 0.9904\n",
      "Epoch 7/20\n",
      "60000/60000 [==============================] - 5s 84us/step - loss: 0.0448 - acc: 0.9858 - val_loss: 0.0271 - val_acc: 0.9917\n",
      "Epoch 8/20\n",
      "60000/60000 [==============================] - 5s 83us/step - loss: 0.0396 - acc: 0.9875 - val_loss: 0.0289 - val_acc: 0.9919\n",
      "Epoch 9/20\n",
      "60000/60000 [==============================] - 5s 83us/step - loss: 0.0378 - acc: 0.9876 - val_loss: 0.0258 - val_acc: 0.9926\n",
      "Epoch 10/20\n",
      "60000/60000 [==============================] - 5s 82us/step - loss: 0.0343 - acc: 0.9888 - val_loss: 0.0295 - val_acc: 0.9903\n",
      "Epoch 11/20\n",
      "60000/60000 [==============================] - 5s 83us/step - loss: 0.0345 - acc: 0.9891 - val_loss: 0.0284 - val_acc: 0.9916\n",
      "Epoch 12/20\n",
      "60000/60000 [==============================] - 5s 83us/step - loss: 0.0307 - acc: 0.9901 - val_loss: 0.0293 - val_acc: 0.9922\n",
      "Epoch 13/20\n",
      "60000/60000 [==============================] - 5s 82us/step - loss: 0.0305 - acc: 0.9899 - val_loss: 0.0293 - val_acc: 0.9921\n",
      "Epoch 14/20\n",
      "60000/60000 [==============================] - 5s 82us/step - loss: 0.0285 - acc: 0.9904 - val_loss: 0.0251 - val_acc: 0.9929\n",
      "Epoch 15/20\n",
      "60000/60000 [==============================] - 5s 82us/step - loss: 0.0263 - acc: 0.9914 - val_loss: 0.0274 - val_acc: 0.9923\n",
      "Epoch 16/20\n",
      "60000/60000 [==============================] - 5s 82us/step - loss: 0.0250 - acc: 0.9923 - val_loss: 0.0283 - val_acc: 0.9916\n",
      "Epoch 17/20\n",
      "60000/60000 [==============================] - 5s 82us/step - loss: 0.0261 - acc: 0.9912 - val_loss: 0.0316 - val_acc: 0.9917\n",
      "Epoch 18/20\n",
      "60000/60000 [==============================] - 5s 83us/step - loss: 0.0226 - acc: 0.9925 - val_loss: 0.0265 - val_acc: 0.9932\n",
      "Epoch 19/20\n",
      "60000/60000 [==============================] - 5s 85us/step - loss: 0.0227 - acc: 0.9924 - val_loss: 0.0277 - val_acc: 0.9925\n",
      "Epoch 20/20\n",
      "60000/60000 [==============================] - 5s 84us/step - loss: 0.0214 - acc: 0.9929 - val_loss: 0.0277 - val_acc: 0.9934\n"
     ]
    }
   ],
   "source": [
    "model.compile(optimizer='adam',loss='categorical_crossentropy',metrics=['accuracy'])\n",
    "\n",
    "history=model.fit(x_train,y_train,batch_size=100 ,epochs=20,verbose=1,validation_data=(x_test,y_test))"
   ]
  },
  {
   "cell_type": "markdown",
   "metadata": {
    "colab_type": "text",
    "id": "v5qkNjw3Wcze"
   },
   "source": [
    "## Evaluating The built model "
   ]
  },
  {
   "cell_type": "code",
   "execution_count": 12,
   "metadata": {
    "colab": {
     "base_uri": "https://localhost:8080/",
     "height": 51
    },
    "colab_type": "code",
    "id": "pS4CKiquZ9ac",
    "outputId": "5269ecec-436c-4b4d-ffc7-12f672d15283"
   },
   "outputs": [
    {
     "name": "stdout",
     "output_type": "stream",
     "text": [
      "Test score: 0.02771972013284312\n",
      "Test accuracy: 0.9934\n"
     ]
    }
   ],
   "source": [
    "score = model.evaluate(x_test, y_test, verbose=0) \n",
    "print('Test score:', score[0]) \n",
    "print('Test accuracy:', score[1])"
   ]
  },
  {
   "cell_type": "markdown",
   "metadata": {
    "colab_type": "text",
    "id": "_nCM-ieua3bu"
   },
   "source": [
    "### Dynamic plotting of loss"
   ]
  },
  {
   "cell_type": "code",
   "execution_count": 0,
   "metadata": {
    "colab": {},
    "colab_type": "code",
    "id": "mu2NPDgGbQyF"
   },
   "outputs": [],
   "source": [
    "%matplotlib notebook\n",
    "%matplotlib inline\n",
    "import matplotlib.pyplot as plt\n",
    "import numpy as np\n",
    "import time\n",
    "# https://gist.github.com/greydanus/f6eee59eaf1d90fcb3b534a25362cea4\n",
    "# https://stackoverflow.com/a/14434334\n",
    "# this function is used to update the plots for each epoch and error\n",
    "def plt_dynamic(x, vy, ty,  colors=['b']):\n",
    "    fig,ax = plt.subplots(1,1)\n",
    "    ax.set_xlabel('epoch') \n",
    "    ax.set_ylabel('Categorical Crossentropy Loss')\n",
    "    ax.plot(x, vy, 'b', label=\"Validation Loss\")\n",
    "    ax.plot(x, ty, 'r', label=\"Train Loss\")\n",
    "    plt.legend()\n",
    "    plt.grid()\n",
    "    fig.canvas.draw()"
   ]
  },
  {
   "cell_type": "code",
   "execution_count": 41,
   "metadata": {
    "colab": {
     "base_uri": "https://localhost:8080/",
     "height": 283
    },
    "colab_type": "code",
    "id": "ppNi0oYFbS-T",
    "outputId": "f6eacc04-e176-4edb-aa15-bbd951ef6d68"
   },
   "outputs": [
    {
     "data": {
      "image/png": "[encoded data removed]",
      "text/plain": [
       "<Figure size 432x288 with 1 Axes>"
      ]
     },
     "metadata": {
      "tags": []
     },
     "output_type": "display_data"
    }
   ],
   "source": [
    "%matplotlib inline\n",
    "vy = history.history['val_loss']\n",
    "ty = history.history['loss']\n",
    "\n",
    "\n",
    "# list of epoch numbers\n",
    "x = list(range(1,20+1))\n",
    "\n",
    "plt_dynamic(x, vy, ty)"
   ]
  },
  {
   "cell_type": "markdown",
   "metadata": {
    "colab_type": "text",
    "id": "GiDMPF4V2kp4"
   },
   "source": [
    "### Prediction "
   ]
  },
  {
   "cell_type": "code",
   "execution_count": 15,
   "metadata": {
    "colab": {
     "base_uri": "https://localhost:8080/",
     "height": 34
    },
    "colab_type": "code",
    "id": "WVwc7_HX2kp5",
    "outputId": "f2a71a35-43cb-40eb-a56c-96f6a9e13697"
   },
   "outputs": [
    {
     "data": {
      "text/plain": [
       "(28, 28, 1)"
      ]
     },
     "execution_count": 15,
     "metadata": {
      "tags": []
     },
     "output_type": "execute_result"
    }
   ],
   "source": [
    "x_train[9752].shape"
   ]
  },
  {
   "cell_type": "code",
   "execution_count": 42,
   "metadata": {
    "colab": {
     "base_uri": "https://localhost:8080/",
     "height": 231
    },
    "colab_type": "code",
    "id": "K0_I-G2J2kp-",
    "outputId": "7a912dc9-0f69-4a8c-a9c1-1b674198501e"
   },
   "outputs": [
    {
     "data": {
      "text/plain": [
       "<matplotlib.image.AxesImage at 0x7f1621520ba8>"
      ]
     },
     "execution_count": 42,
     "metadata": {
      "tags": []
     },
     "output_type": "execute_result"
    },
    {
     "data": {
      "image/png": "[encoded data removed]",
      "text/plain": [
       "<Figure size 216x216 with 1 Axes>"
      ]
     },
     "metadata": {
      "tags": []
     },
     "output_type": "display_data"
    }
   ],
   "source": [
    "fig1, ax1 = plt.subplots(figsize=(3,3))\n",
    "ax1.imshow(x_train[9752].reshape(28,28))\n"
   ]
  },
  {
   "cell_type": "code",
   "execution_count": 43,
   "metadata": {
    "colab": {
     "base_uri": "https://localhost:8080/",
     "height": 51
    },
    "colab_type": "code",
    "id": "kfCPK9wC2kqC",
    "outputId": "c4dc0208-1cde-4ecd-b349-3652b17d35a1"
   },
   "outputs": [
    {
     "name": "stdout",
     "output_type": "stream",
     "text": [
      "The Predict value is :\n",
      "9\n"
     ]
    }
   ],
   "source": [
    "print(\"The Predict value is :\")\n",
    "print(model.predict(np.array([x_train[9752]])).argmax())"
   ]
  },
  {
   "cell_type": "code",
   "execution_count": 0,
   "metadata": {
    "colab": {},
    "colab_type": "code",
    "id": "Ig1u-pjp2kqF"
   },
   "outputs": [],
   "source": [
    "summary=[]\n",
    "summary.append(['Model',history.history['val_loss'][-1],history.history['loss'][-1],score[1]])"
   ]
  },
  {
   "cell_type": "markdown",
   "metadata": {
    "colab_type": "text",
    "id": "ZmLsmPmE2kqH"
   },
   "source": [
    "### Model 2\n",
    "\n",
    "     --3 layer convolution with 3 x 3 kernal.\n",
    "     --With max pools after 2 layer and 1 post 3rd layer.\n",
    "     --With Batch normalization and droputs. "
   ]
  },
  {
   "cell_type": "code",
   "execution_count": 19,
   "metadata": {
    "colab": {
     "base_uri": "https://localhost:8080/",
     "height": 819
    },
    "colab_type": "code",
    "id": "zWE05qBH2kqM",
    "outputId": "dd7f7e15-16fa-4738-88b7-a4609c8e0366"
   },
   "outputs": [
    {
     "name": "stderr",
     "output_type": "stream",
     "text": [
      "W0615 16:42:04.246941 139738565678976 deprecation_wrapper.py:119] From /usr/local/lib/python3.6/dist-packages/keras/backend/tensorflow_backend.py:1834: The name tf.nn.fused_batch_norm is deprecated. Please use tf.compat.v1.nn.fused_batch_norm instead.\n",
      "\n",
      "/usr/local/lib/python3.6/dist-packages/ipykernel_launcher.py:19: UserWarning: Update your `Dense` call to the Keras 2 API: `Dense(activation=\"relu\", units=128)`\n",
      "/usr/local/lib/python3.6/dist-packages/ipykernel_launcher.py:23: UserWarning: Update your `Dense` call to the Keras 2 API: `Dense(activation=\"relu\", units=64)`\n",
      "/usr/local/lib/python3.6/dist-packages/ipykernel_launcher.py:28: UserWarning: Update your `Dense` call to the Keras 2 API: `Dense(activation=\"softmax\", units=10)`\n"
     ]
    },
    {
     "name": "stdout",
     "output_type": "stream",
     "text": [
      "_________________________________________________________________\n",
      "Layer (type)                 Output Shape              Param #   \n",
      "=================================================================\n",
      "conv2d_3 (Conv2D)            (None, 26, 26, 32)        320       \n",
      "_________________________________________________________________\n",
      "conv2d_4 (Conv2D)            (None, 24, 24, 64)        18496     \n",
      "_________________________________________________________________\n",
      "max_pooling2d_2 (MaxPooling2 (None, 12, 12, 64)        0         \n",
      "_________________________________________________________________\n",
      "batch_normalization_1 (Batch (None, 12, 12, 64)        256       \n",
      "_________________________________________________________________\n",
      "dropout_3 (Dropout)          (None, 12, 12, 64)        0         \n",
      "_________________________________________________________________\n",
      "conv2d_5 (Conv2D)            (None, 10, 10, 128)       73856     \n",
      "_________________________________________________________________\n",
      "max_pooling2d_3 (MaxPooling2 (None, 5, 5, 128)         0         \n",
      "_________________________________________________________________\n",
      "batch_normalization_2 (Batch (None, 5, 5, 128)         512       \n",
      "_________________________________________________________________\n",
      "dropout_4 (Dropout)          (None, 5, 5, 128)         0         \n",
      "_________________________________________________________________\n",
      "flatten_2 (Flatten)          (None, 3200)              0         \n",
      "_________________________________________________________________\n",
      "dense_3 (Dense)              (None, 128)               409728    \n",
      "_________________________________________________________________\n",
      "batch_normalization_3 (Batch (None, 128)               512       \n",
      "_________________________________________________________________\n",
      "dropout_5 (Dropout)          (None, 128)               0         \n",
      "_________________________________________________________________\n",
      "dense_4 (Dense)              (None, 64)                8256      \n",
      "_________________________________________________________________\n",
      "batch_normalization_4 (Batch (None, 64)                256       \n",
      "_________________________________________________________________\n",
      "dropout_6 (Dropout)          (None, 64)                0         \n",
      "_________________________________________________________________\n",
      "dense_5 (Dense)              (None, 10)                650       \n",
      "=================================================================\n",
      "Total params: 512,842\n",
      "Trainable params: 512,074\n",
      "Non-trainable params: 768\n",
      "_________________________________________________________________\n"
     ]
    }
   ],
   "source": [
    "model_2 = Sequential()\n",
    "\n",
    "#bottle neck model_2\n",
    "model_2.add(Conv2D(filters=32 ,input_shape=input_shape , kernel_size=(3, 3),activation='relu'))\n",
    "model_2.add(Conv2D(filters=64, kernel_size=(3, 3), activation='relu'))\n",
    "model_2.add(MaxPooling2D(pool_size=(2, 2)))\n",
    "model_2.add(BatchNormalization())\n",
    "model_2.add(Dropout(0.5))\n",
    "\n",
    "model_2.add(Conv2D(filters=128 , kernel_size=(3, 3),activation='relu'))\n",
    "model_2.add(MaxPooling2D(pool_size=(2, 2)))\n",
    "model_2.add(BatchNormalization())\n",
    "model_2.add(Dropout(0.5))\n",
    "\n",
    "#Flatten the input data\n",
    "model_2.add(Flatten())\n",
    "\n",
    "#Neural Network\n",
    "model_2.add(Dense(output_dim=128, activation='relu'))\n",
    "model_2.add(BatchNormalization())\n",
    "model_2.add(Dropout(0.5))\n",
    "\n",
    "model_2.add(Dense(output_dim=64, activation='relu'))\n",
    "model_2.add(BatchNormalization())\n",
    "model_2.add(Dropout(0.5))\n",
    "\n",
    "#Softmax classifier\n",
    "model_2.add(Dense(output_dim=num_classes, activation='softmax'))\n",
    "\n",
    "model_2.summary()\n"
   ]
  },
  {
   "cell_type": "code",
   "execution_count": 20,
   "metadata": {
    "colab": {
     "base_uri": "https://localhost:8080/",
     "height": 714
    },
    "colab_type": "code",
    "id": "yat1C8Wr2kqQ",
    "outputId": "5e071aa0-d350-48d8-cb0f-bd3c98bc2e4b"
   },
   "outputs": [
    {
     "name": "stdout",
     "output_type": "stream",
     "text": [
      "Train on 60000 samples, validate on 10000 samples\n",
      "Epoch 1/20\n",
      "60000/60000 [==============================] - 10s 163us/step - loss: 0.4248 - acc: 0.8739 - val_loss: 0.0637 - val_acc: 0.9806\n",
      "Epoch 2/20\n",
      "60000/60000 [==============================] - 8s 140us/step - loss: 0.1364 - acc: 0.9618 - val_loss: 0.0416 - val_acc: 0.9853\n",
      "Epoch 3/20\n",
      "60000/60000 [==============================] - 8s 138us/step - loss: 0.1031 - acc: 0.9712 - val_loss: 0.0374 - val_acc: 0.9881\n",
      "Epoch 4/20\n",
      "60000/60000 [==============================] - 8s 138us/step - loss: 0.0863 - acc: 0.9761 - val_loss: 0.0370 - val_acc: 0.9877\n",
      "Epoch 5/20\n",
      "60000/60000 [==============================] - 8s 139us/step - loss: 0.0752 - acc: 0.9784 - val_loss: 0.0292 - val_acc: 0.9903\n",
      "Epoch 6/20\n",
      "60000/60000 [==============================] - 8s 139us/step - loss: 0.0685 - acc: 0.9807 - val_loss: 0.0270 - val_acc: 0.9913\n",
      "Epoch 7/20\n",
      "60000/60000 [==============================] - 8s 137us/step - loss: 0.0649 - acc: 0.9823 - val_loss: 0.0326 - val_acc: 0.9909\n",
      "Epoch 8/20\n",
      "60000/60000 [==============================] - 8s 137us/step - loss: 0.0588 - acc: 0.9834 - val_loss: 0.0286 - val_acc: 0.9907\n",
      "Epoch 9/20\n",
      "60000/60000 [==============================] - 8s 138us/step - loss: 0.0570 - acc: 0.9841 - val_loss: 0.0220 - val_acc: 0.9925\n",
      "Epoch 10/20\n",
      "60000/60000 [==============================] - 8s 138us/step - loss: 0.0540 - acc: 0.9849 - val_loss: 0.0274 - val_acc: 0.9920\n",
      "Epoch 11/20\n",
      "60000/60000 [==============================] - 8s 138us/step - loss: 0.0511 - acc: 0.9850 - val_loss: 0.0227 - val_acc: 0.9932\n",
      "Epoch 12/20\n",
      "60000/60000 [==============================] - 8s 137us/step - loss: 0.0470 - acc: 0.9868 - val_loss: 0.0243 - val_acc: 0.9933\n",
      "Epoch 13/20\n",
      "60000/60000 [==============================] - 8s 137us/step - loss: 0.0456 - acc: 0.9868 - val_loss: 0.0261 - val_acc: 0.9931\n",
      "Epoch 14/20\n",
      "60000/60000 [==============================] - 8s 139us/step - loss: 0.0442 - acc: 0.9876 - val_loss: 0.0303 - val_acc: 0.9922\n",
      "Epoch 15/20\n",
      "60000/60000 [==============================] - 8s 138us/step - loss: 0.0432 - acc: 0.9881 - val_loss: 0.0219 - val_acc: 0.9930\n",
      "Epoch 16/20\n",
      "60000/60000 [==============================] - 8s 137us/step - loss: 0.0418 - acc: 0.9883 - val_loss: 0.0214 - val_acc: 0.9930\n",
      "Epoch 17/20\n",
      "60000/60000 [==============================] - 8s 137us/step - loss: 0.0381 - acc: 0.9894 - val_loss: 0.0225 - val_acc: 0.9933\n",
      "Epoch 18/20\n",
      "60000/60000 [==============================] - 8s 138us/step - loss: 0.0414 - acc: 0.9885 - val_loss: 0.0206 - val_acc: 0.9935\n",
      "Epoch 19/20\n",
      "60000/60000 [==============================] - 8s 137us/step - loss: 0.0390 - acc: 0.9892 - val_loss: 0.0198 - val_acc: 0.9944\n",
      "Epoch 20/20\n",
      "60000/60000 [==============================] - 8s 137us/step - loss: 0.0374 - acc: 0.9898 - val_loss: 0.0218 - val_acc: 0.9931\n"
     ]
    }
   ],
   "source": [
    "model_2.compile(optimizer='adam',loss='categorical_crossentropy',metrics=['accuracy'])\n",
    "\n",
    "history_2=model_2.fit(x_train,y_train,batch_size=100 ,epochs=20,verbose=1,validation_data=(x_test,y_test))\n"
   ]
  },
  {
   "cell_type": "markdown",
   "metadata": {
    "colab_type": "text",
    "id": "Tewx2oV82kqT"
   },
   "source": [
    "## Evaluating The built model "
   ]
  },
  {
   "cell_type": "code",
   "execution_count": 21,
   "metadata": {
    "colab": {
     "base_uri": "https://localhost:8080/",
     "height": 51
    },
    "colab_type": "code",
    "id": "CJ-GkfBh2kqU",
    "outputId": "4eac8f77-6bd7-48e1-a120-49895f4c7849"
   },
   "outputs": [
    {
     "name": "stdout",
     "output_type": "stream",
     "text": [
      "Test score: 0.0218248584106841\n",
      "Test accuracy: 0.9931\n"
     ]
    }
   ],
   "source": [
    "score = model_2.evaluate(x_test, y_test, verbose=0) \n",
    "print('Test score:', score[0]) \n",
    "print('Test accuracy:', score[1])"
   ]
  },
  {
   "cell_type": "markdown",
   "metadata": {
    "colab_type": "text",
    "id": "COLz8KEl2kqW"
   },
   "source": [
    "### Dynamic plotting of loss"
   ]
  },
  {
   "cell_type": "code",
   "execution_count": 44,
   "metadata": {
    "colab": {
     "base_uri": "https://localhost:8080/",
     "height": 283
    },
    "colab_type": "code",
    "id": "8Symw6yo2kqW",
    "outputId": "bd1ac1db-f926-43c1-8e5b-c62eaca2bb14"
   },
   "outputs": [
    {
     "data": {
      "image/png": "[encoded data removed]",
      "text/plain": [
       "<Figure size 432x288 with 1 Axes>"
      ]
     },
     "metadata": {
      "tags": []
     },
     "output_type": "display_data"
    }
   ],
   "source": [
    "vy = history_2.history['val_loss']\n",
    "ty = history_2.history['loss']\n",
    "\n",
    "\n",
    "# list of epoch numbers\n",
    "x = list(range(1,20+1))\n",
    "\n",
    "plt_dynamic(x, vy, ty)"
   ]
  },
  {
   "cell_type": "code",
   "execution_count": 0,
   "metadata": {
    "colab": {},
    "colab_type": "code",
    "id": "vRwtJLdq2kqZ"
   },
   "outputs": [],
   "source": [
    "summary.append(['Model_1',history_2.history['val_loss'][-1],history_2.history['loss'][-1],score[1]])"
   ]
  },
  {
   "cell_type": "markdown",
   "metadata": {
    "colab_type": "text",
    "id": "EiNrKbTR2kqb"
   },
   "source": [
    "### Prediction "
   ]
  },
  {
   "cell_type": "code",
   "execution_count": 45,
   "metadata": {
    "colab": {
     "base_uri": "https://localhost:8080/",
     "height": 231
    },
    "colab_type": "code",
    "id": "_BnBrLQY2kqc",
    "outputId": "6cf2728f-64f9-4a57-8bc8-f6d02dd09ee1"
   },
   "outputs": [
    {
     "data": {
      "text/plain": [
       "<matplotlib.image.AxesImage at 0x7f16933e5550>"
      ]
     },
     "execution_count": 45,
     "metadata": {
      "tags": []
     },
     "output_type": "execute_result"
    },
    {
     "data": {
      "image/png": "[encoded data removed]",
      "text/plain": [
       "<Figure size 216x216 with 1 Axes>"
      ]
     },
     "metadata": {
      "tags": []
     },
     "output_type": "display_data"
    }
   ],
   "source": [
    "\n",
    "fig1, ax1 = plt.subplots(figsize=(3,3))\n",
    "ax1.imshow(x_train[100].reshape(28,28))\n"
   ]
  },
  {
   "cell_type": "code",
   "execution_count": 46,
   "metadata": {
    "colab": {
     "base_uri": "https://localhost:8080/",
     "height": 51
    },
    "colab_type": "code",
    "id": "cMQtdcRt2kqg",
    "outputId": "b842fd8c-6e1a-4cc1-8cef-328cb2a1c51f"
   },
   "outputs": [
    {
     "name": "stdout",
     "output_type": "stream",
     "text": [
      "The Predict value is :\n",
      "5\n"
     ]
    }
   ],
   "source": [
    "print(\"The Predict value is :\")\n",
    "print(model_2.predict(np.array([x_train[100]])).argmax())"
   ]
  },
  {
   "cell_type": "markdown",
   "metadata": {
    "colab_type": "text",
    "id": "j8nMyoGz2kqk"
   },
   "source": [
    "### Model 3\n",
    "\n",
    "     --5 layer convolution with 2 x 2 kernal.\n",
    "     --With max pools after 2 layers each and post 5th layer.\n",
    "     --With Batch normalization and droputs. "
   ]
  },
  {
   "cell_type": "code",
   "execution_count": 26,
   "metadata": {
    "colab": {
     "base_uri": "https://localhost:8080/",
     "height": 955
    },
    "colab_type": "code",
    "id": "PCv5fU9o2kql",
    "outputId": "b42dc4b4-d180-4bb9-8b58-e7ff8b476e1c"
   },
   "outputs": [
    {
     "name": "stderr",
     "output_type": "stream",
     "text": [
      "/usr/local/lib/python3.6/dist-packages/ipykernel_launcher.py:25: UserWarning: Update your `Dense` call to the Keras 2 API: `Dense(activation=\"relu\", units=128)`\n"
     ]
    },
    {
     "name": "stdout",
     "output_type": "stream",
     "text": [
      "_________________________________________________________________\n",
      "Layer (type)                 Output Shape              Param #   \n",
      "=================================================================\n",
      "conv2d_6 (Conv2D)            (None, 27, 27, 32)        160       \n",
      "_________________________________________________________________\n",
      "conv2d_7 (Conv2D)            (None, 26, 26, 64)        8256      \n",
      "_________________________________________________________________\n",
      "max_pooling2d_4 (MaxPooling2 (None, 13, 13, 64)        0         \n",
      "_________________________________________________________________\n",
      "batch_normalization_5 (Batch (None, 13, 13, 64)        256       \n",
      "_________________________________________________________________\n",
      "dropout_7 (Dropout)          (None, 13, 13, 64)        0         \n",
      "_________________________________________________________________\n",
      "conv2d_8 (Conv2D)            (None, 12, 12, 128)       32896     \n",
      "_________________________________________________________________\n",
      "conv2d_9 (Conv2D)            (None, 11, 11, 256)       131328    \n",
      "_________________________________________________________________\n",
      "max_pooling2d_5 (MaxPooling2 (None, 5, 5, 256)         0         \n",
      "_________________________________________________________________\n",
      "batch_normalization_6 (Batch (None, 5, 5, 256)         1024      \n",
      "_________________________________________________________________\n",
      "dropout_8 (Dropout)          (None, 5, 5, 256)         0         \n",
      "_________________________________________________________________\n",
      "conv2d_10 (Conv2D)           (None, 4, 4, 512)         524800    \n",
      "_________________________________________________________________\n",
      "max_pooling2d_6 (MaxPooling2 (None, 2, 2, 512)         0         \n",
      "_________________________________________________________________\n",
      "batch_normalization_7 (Batch (None, 2, 2, 512)         2048      \n",
      "_________________________________________________________________\n",
      "dropout_9 (Dropout)          (None, 2, 2, 512)         0         \n",
      "_________________________________________________________________\n",
      "flatten_3 (Flatten)          (None, 2048)              0         \n",
      "_________________________________________________________________\n",
      "dense_6 (Dense)              (None, 128)               262272    \n",
      "_________________________________________________________________\n",
      "batch_normalization_8 (Batch (None, 128)               512       \n",
      "_________________________________________________________________\n",
      "dropout_10 (Dropout)         (None, 128)               0         \n",
      "_________________________________________________________________\n",
      "dense_7 (Dense)              (None, 64)                8256      \n",
      "_________________________________________________________________\n",
      "batch_normalization_9 (Batch (None, 64)                256       \n",
      "_________________________________________________________________\n",
      "dropout_11 (Dropout)         (None, 64)                0         \n",
      "_________________________________________________________________\n",
      "dense_8 (Dense)              (None, 10)                650       \n",
      "=================================================================\n",
      "Total params: 972,714\n",
      "Trainable params: 970,666\n",
      "Non-trainable params: 2,048\n",
      "_________________________________________________________________\n"
     ]
    },
    {
     "name": "stderr",
     "output_type": "stream",
     "text": [
      "/usr/local/lib/python3.6/dist-packages/ipykernel_launcher.py:29: UserWarning: Update your `Dense` call to the Keras 2 API: `Dense(activation=\"relu\", units=64)`\n",
      "/usr/local/lib/python3.6/dist-packages/ipykernel_launcher.py:34: UserWarning: Update your `Dense` call to the Keras 2 API: `Dense(activation=\"softmax\", units=10)`\n"
     ]
    }
   ],
   "source": [
    "model_3 = Sequential()\n",
    "\n",
    "#bottle neck model_3\n",
    "model_3.add(Conv2D(filters=32 ,input_shape=input_shape , kernel_size=(2, 2),activation='relu'))\n",
    "model_3.add(Conv2D(filters=64, kernel_size=(2, 2), activation='relu'))\n",
    "model_3.add(MaxPooling2D(pool_size=(2, 2)))\n",
    "model_3.add(BatchNormalization())\n",
    "model_3.add(Dropout(0.5))\n",
    "\n",
    "model_3.add(Conv2D(filters=128 , kernel_size=(2, 2),activation='relu'))\n",
    "model_3.add(Conv2D(filters=256, kernel_size=(2, 2), activation='relu'))\n",
    "model_3.add(MaxPooling2D(pool_size=(2, 2)))\n",
    "model_3.add(BatchNormalization())\n",
    "model_3.add(Dropout(0.5))\n",
    "\n",
    "model_3.add(Conv2D(filters=512 , kernel_size=(2, 2),activation='relu'))\n",
    "model_3.add(MaxPooling2D(pool_size=(2, 2)))\n",
    "model_3.add(BatchNormalization())\n",
    "model_3.add(Dropout(0.5))\n",
    "\n",
    "#Flatten the input data\n",
    "model_3.add(Flatten())\n",
    "\n",
    "#Neural Network\n",
    "model_3.add(Dense(output_dim=128, activation='relu'))\n",
    "model_3.add(BatchNormalization())\n",
    "model_3.add(Dropout(0.5))\n",
    "\n",
    "model_3.add(Dense(output_dim=64, activation='relu'))\n",
    "model_3.add(BatchNormalization())\n",
    "model_3.add(Dropout(0.5))\n",
    "\n",
    "#Softmax classifier\n",
    "model_3.add(Dense(output_dim=num_classes, activation='softmax'))\n",
    "\n",
    "model_3.summary()\n"
   ]
  },
  {
   "cell_type": "code",
   "execution_count": 27,
   "metadata": {
    "colab": {
     "base_uri": "https://localhost:8080/",
     "height": 714
    },
    "colab_type": "code",
    "id": "Oj23OMZ42kqn",
    "outputId": "d8aa6a2e-f528-44ee-9d41-ed5961a6df08"
   },
   "outputs": [
    {
     "name": "stdout",
     "output_type": "stream",
     "text": [
      "Train on 60000 samples, validate on 10000 samples\n",
      "Epoch 1/20\n",
      "60000/60000 [==============================] - 14s 233us/step - loss: 0.5428 - acc: 0.8371 - val_loss: 0.1063 - val_acc: 0.9691\n",
      "Epoch 2/20\n",
      "60000/60000 [==============================] - 12s 196us/step - loss: 0.1526 - acc: 0.9568 - val_loss: 0.0413 - val_acc: 0.9873\n",
      "Epoch 3/20\n",
      "60000/60000 [==============================] - 12s 195us/step - loss: 0.1088 - acc: 0.9701 - val_loss: 0.0357 - val_acc: 0.9889\n",
      "Epoch 4/20\n",
      "60000/60000 [==============================] - 12s 194us/step - loss: 0.0902 - acc: 0.9745 - val_loss: 0.0338 - val_acc: 0.9897\n",
      "Epoch 5/20\n",
      "60000/60000 [==============================] - 12s 193us/step - loss: 0.0817 - acc: 0.9770 - val_loss: 0.0305 - val_acc: 0.9911\n",
      "Epoch 6/20\n",
      "60000/60000 [==============================] - 12s 194us/step - loss: 0.0730 - acc: 0.9790 - val_loss: 0.0289 - val_acc: 0.9922\n",
      "Epoch 7/20\n",
      "60000/60000 [==============================] - 12s 195us/step - loss: 0.0661 - acc: 0.9817 - val_loss: 0.0245 - val_acc: 0.9928\n",
      "Epoch 8/20\n",
      "60000/60000 [==============================] - 12s 194us/step - loss: 0.0614 - acc: 0.9825 - val_loss: 0.0238 - val_acc: 0.9931\n",
      "Epoch 9/20\n",
      "60000/60000 [==============================] - 12s 193us/step - loss: 0.0591 - acc: 0.9839 - val_loss: 0.0232 - val_acc: 0.9929\n",
      "Epoch 10/20\n",
      "60000/60000 [==============================] - 12s 193us/step - loss: 0.0542 - acc: 0.9846 - val_loss: 0.0279 - val_acc: 0.9925\n",
      "Epoch 11/20\n",
      "60000/60000 [==============================] - 12s 194us/step - loss: 0.0484 - acc: 0.9860 - val_loss: 0.0200 - val_acc: 0.9938\n",
      "Epoch 12/20\n",
      "60000/60000 [==============================] - 12s 193us/step - loss: 0.0488 - acc: 0.9866 - val_loss: 0.0217 - val_acc: 0.9939\n",
      "Epoch 13/20\n",
      "60000/60000 [==============================] - 12s 194us/step - loss: 0.0473 - acc: 0.9869 - val_loss: 0.0235 - val_acc: 0.9936\n",
      "Epoch 14/20\n",
      "60000/60000 [==============================] - 12s 194us/step - loss: 0.0462 - acc: 0.9872 - val_loss: 0.0283 - val_acc: 0.9930\n",
      "Epoch 15/20\n",
      "60000/60000 [==============================] - 12s 193us/step - loss: 0.0438 - acc: 0.9883 - val_loss: 0.0249 - val_acc: 0.9937\n",
      "Epoch 16/20\n",
      "60000/60000 [==============================] - 12s 193us/step - loss: 0.0423 - acc: 0.9884 - val_loss: 0.0212 - val_acc: 0.9938\n",
      "Epoch 17/20\n",
      "60000/60000 [==============================] - 12s 193us/step - loss: 0.0389 - acc: 0.9894 - val_loss: 0.0183 - val_acc: 0.9944\n",
      "Epoch 18/20\n",
      "60000/60000 [==============================] - 12s 193us/step - loss: 0.0381 - acc: 0.9893 - val_loss: 0.0223 - val_acc: 0.9937\n",
      "Epoch 19/20\n",
      "60000/60000 [==============================] - 12s 193us/step - loss: 0.0340 - acc: 0.9903 - val_loss: 0.0216 - val_acc: 0.9948\n",
      "Epoch 20/20\n",
      "60000/60000 [==============================] - 12s 193us/step - loss: 0.0355 - acc: 0.9903 - val_loss: 0.0181 - val_acc: 0.9945\n"
     ]
    }
   ],
   "source": [
    "model_3.compile(optimizer='adam',loss='categorical_crossentropy',metrics=['accuracy'])\n",
    "\n",
    "history_3=model_3.fit(x_train,y_train,batch_size=100 ,epochs=20,verbose=1,validation_data=(x_test,y_test))\n"
   ]
  },
  {
   "cell_type": "markdown",
   "metadata": {
    "colab_type": "text",
    "id": "0fzHA0YR2kqq"
   },
   "source": [
    "## Evaluating The built model "
   ]
  },
  {
   "cell_type": "code",
   "execution_count": 28,
   "metadata": {
    "colab": {
     "base_uri": "https://localhost:8080/",
     "height": 51
    },
    "colab_type": "code",
    "id": "hVZny5SP2kqr",
    "outputId": "d839bd50-0a88-4468-de85-9238ac4a3786"
   },
   "outputs": [
    {
     "name": "stdout",
     "output_type": "stream",
     "text": [
      "Test score: 0.018117401196920402\n",
      "Test accuracy: 0.9945\n"
     ]
    }
   ],
   "source": [
    "score = model_3.evaluate(x_test, y_test, verbose=0) \n",
    "print('Test score:', score[0]) \n",
    "print('Test accuracy:', score[1])"
   ]
  },
  {
   "cell_type": "markdown",
   "metadata": {
    "colab_type": "text",
    "id": "wXK981e02kqu"
   },
   "source": [
    "### Dynamic plotting of loss"
   ]
  },
  {
   "cell_type": "code",
   "execution_count": 47,
   "metadata": {
    "colab": {
     "base_uri": "https://localhost:8080/",
     "height": 283
    },
    "colab_type": "code",
    "id": "5ixjlgT22kqu",
    "outputId": "2591e3a0-f2d5-4d30-ff24-9fd613eb91b6"
   },
   "outputs": [
    {
     "data": {
      "image/png": "[encoded data removed]",
      "text/plain": [
       "<Figure size 432x288 with 1 Axes>"
      ]
     },
     "metadata": {
      "tags": []
     },
     "output_type": "display_data"
    }
   ],
   "source": [
    "vy = history_3.history['val_loss']\n",
    "ty = history_3.history['loss']\n",
    "\n",
    "\n",
    "# list of epoch numbers\n",
    "x = list(range(1,20+1))\n",
    "\n",
    "plt_dynamic(x, vy, ty)"
   ]
  },
  {
   "cell_type": "code",
   "execution_count": 0,
   "metadata": {
    "colab": {},
    "colab_type": "code",
    "id": "A4otjSlc2kqx"
   },
   "outputs": [],
   "source": [
    "summary.append(['Model_3',history_3.history['val_loss'][-1],history_3.history['loss'][-1],score[1]])"
   ]
  },
  {
   "cell_type": "markdown",
   "metadata": {
    "colab_type": "text",
    "id": "Ecj3IiVK2kq1"
   },
   "source": [
    "### Prediction "
   ]
  },
  {
   "cell_type": "code",
   "execution_count": 48,
   "metadata": {
    "colab": {
     "base_uri": "https://localhost:8080/",
     "height": 231
    },
    "colab_type": "code",
    "id": "gLU1J2eB2kq2",
    "outputId": "03673336-b276-4a54-919b-196788d468f5"
   },
   "outputs": [
    {
     "data": {
      "text/plain": [
       "<matplotlib.image.AxesImage at 0x7f16214852e8>"
      ]
     },
     "execution_count": 48,
     "metadata": {
      "tags": []
     },
     "output_type": "execute_result"
    },
    {
     "data": {
      "image/png": "[encoded data removed]",
      "text/plain": [
       "<Figure size 216x216 with 1 Axes>"
      ]
     },
     "metadata": {
      "tags": []
     },
     "output_type": "display_data"
    }
   ],
   "source": [
    "fig1, ax1 = plt.subplots(figsize=(3,3))\n",
    "ax1.imshow(x_train[567].reshape(28,28))\n"
   ]
  },
  {
   "cell_type": "code",
   "execution_count": 32,
   "metadata": {
    "colab": {
     "base_uri": "https://localhost:8080/",
     "height": 51
    },
    "colab_type": "code",
    "id": "HiKNm4SO2kq5",
    "outputId": "aeadf1dd-79df-4aaa-ba7a-bb3c02c5aa2c"
   },
   "outputs": [
    {
     "name": "stdout",
     "output_type": "stream",
     "text": [
      "The Predict value is :\n",
      "7\n"
     ]
    }
   ],
   "source": [
    "print(\"The Predict value is :\")\n",
    "print(model_3.predict(np.array([x_train[567]])).argmax())"
   ]
  },
  {
   "cell_type": "markdown",
   "metadata": {
    "colab_type": "text",
    "id": "1Ux04iko2kq7"
   },
   "source": [
    "### Model 4\n",
    "\n",
    "     --7 layer convolution with 5 x 5 kernal.\n",
    "     --With max pools after 2 layers each and post 7th layer.\n",
    "     --With Batch normalization and droputs. "
   ]
  },
  {
   "cell_type": "code",
   "execution_count": 33,
   "metadata": {
    "colab": {
     "base_uri": "https://localhost:8080/",
     "height": 1244
    },
    "colab_type": "code",
    "id": "5soQr3nh2kq8",
    "outputId": "06411f75-e34f-4a80-eb63-2dc65c97964d"
   },
   "outputs": [
    {
     "name": "stderr",
     "output_type": "stream",
     "text": [
      "/usr/local/lib/python3.6/dist-packages/ipykernel_launcher.py:32: UserWarning: Update your `Dense` call to the Keras 2 API: `Dense(activation=\"relu\", units=128)`\n",
      "/usr/local/lib/python3.6/dist-packages/ipykernel_launcher.py:36: UserWarning: Update your `Dense` call to the Keras 2 API: `Dense(activation=\"relu\", units=64)`\n",
      "/usr/local/lib/python3.6/dist-packages/ipykernel_launcher.py:40: UserWarning: Update your `Dense` call to the Keras 2 API: `Dense(activation=\"relu\", units=32)`\n"
     ]
    },
    {
     "name": "stdout",
     "output_type": "stream",
     "text": [
      "_________________________________________________________________\n",
      "Layer (type)                 Output Shape              Param #   \n",
      "=================================================================\n",
      "conv2d_11 (Conv2D)           (None, 28, 28, 64)        1088      \n",
      "_________________________________________________________________\n",
      "conv2d_12 (Conv2D)           (None, 28, 28, 64)        65600     \n",
      "_________________________________________________________________\n",
      "max_pooling2d_7 (MaxPooling2 (None, 14, 14, 64)        0         \n",
      "_________________________________________________________________\n",
      "batch_normalization_10 (Batc (None, 14, 14, 64)        256       \n",
      "_________________________________________________________________\n",
      "dropout_12 (Dropout)         (None, 14, 14, 64)        0         \n",
      "_________________________________________________________________\n",
      "conv2d_13 (Conv2D)           (None, 14, 14, 128)       131200    \n",
      "_________________________________________________________________\n",
      "conv2d_14 (Conv2D)           (None, 14, 14, 128)       262272    \n",
      "_________________________________________________________________\n",
      "max_pooling2d_8 (MaxPooling2 (None, 7, 7, 128)         0         \n",
      "_________________________________________________________________\n",
      "batch_normalization_11 (Batc (None, 7, 7, 128)         512       \n",
      "_________________________________________________________________\n",
      "dropout_13 (Dropout)         (None, 7, 7, 128)         0         \n",
      "_________________________________________________________________\n",
      "conv2d_15 (Conv2D)           (None, 7, 7, 256)         524544    \n",
      "_________________________________________________________________\n",
      "conv2d_16 (Conv2D)           (None, 7, 7, 256)         1048832   \n",
      "_________________________________________________________________\n",
      "max_pooling2d_9 (MaxPooling2 (None, 3, 3, 256)         0         \n",
      "_________________________________________________________________\n",
      "batch_normalization_12 (Batc (None, 3, 3, 256)         1024      \n",
      "_________________________________________________________________\n",
      "dropout_14 (Dropout)         (None, 3, 3, 256)         0         \n",
      "_________________________________________________________________\n",
      "conv2d_17 (Conv2D)           (None, 3, 3, 512)         2097664   \n",
      "_________________________________________________________________\n",
      "max_pooling2d_10 (MaxPooling (None, 1, 1, 512)         0         \n",
      "_________________________________________________________________\n",
      "batch_normalization_13 (Batc (None, 1, 1, 512)         2048      \n",
      "_________________________________________________________________\n",
      "dropout_15 (Dropout)         (None, 1, 1, 512)         0         \n",
      "_________________________________________________________________\n",
      "flatten_4 (Flatten)          (None, 512)               0         \n",
      "_________________________________________________________________\n",
      "dense_9 (Dense)              (None, 128)               65664     \n",
      "_________________________________________________________________\n",
      "batch_normalization_14 (Batc (None, 128)               512       \n",
      "_________________________________________________________________\n",
      "dropout_16 (Dropout)         (None, 128)               0         \n",
      "_________________________________________________________________\n",
      "dense_10 (Dense)             (None, 64)                8256      \n",
      "_________________________________________________________________\n",
      "batch_normalization_15 (Batc (None, 64)                256       \n",
      "_________________________________________________________________\n",
      "dropout_17 (Dropout)         (None, 64)                0         \n",
      "_________________________________________________________________\n",
      "dense_11 (Dense)             (None, 32)                2080      \n",
      "_________________________________________________________________\n",
      "batch_normalization_16 (Batc (None, 32)                128       \n",
      "_________________________________________________________________\n",
      "dropout_18 (Dropout)         (None, 32)                0         \n",
      "_________________________________________________________________\n",
      "dense_12 (Dense)             (None, 10)                330       \n",
      "=================================================================\n",
      "Total params: 4,212,266\n",
      "Trainable params: 4,209,898\n",
      "Non-trainable params: 2,368\n",
      "_________________________________________________________________\n"
     ]
    },
    {
     "name": "stderr",
     "output_type": "stream",
     "text": [
      "/usr/local/lib/python3.6/dist-packages/ipykernel_launcher.py:45: UserWarning: Update your `Dense` call to the Keras 2 API: `Dense(activation=\"softmax\", units=10)`\n"
     ]
    }
   ],
   "source": [
    "K.set_image_dim_ordering('tf')\n",
    "model_4 = Sequential()\n",
    "\n",
    "#bottle neck model_4\n",
    "model_4.add(Conv2D(filters=64 ,padding='same',input_shape=input_shape , kernel_size=(4, 4),activation='relu'))\n",
    "model_4.add(Conv2D(filters=64, padding='same',kernel_size=(4, 4), activation='relu'))\n",
    "model_4.add(MaxPooling2D(pool_size=(2,2)))\n",
    "model_4.add(BatchNormalization())\n",
    "model_4.add(Dropout(0.5))\n",
    "\n",
    "model_4.add(Conv2D(filters=128 ,padding='same', kernel_size=(4,4),activation='relu'))\n",
    "model_4.add(Conv2D(filters=128,padding='same', kernel_size=(4, 4), activation='relu'))\n",
    "model_4.add(MaxPooling2D(pool_size=(2,2)))\n",
    "model_4.add(BatchNormalization())\n",
    "model_4.add(Dropout(0.5))\n",
    "\n",
    "model_4.add(Conv2D(filters=256  ,padding='same', kernel_size=(4,4),activation='relu'))\n",
    "model_4.add(Conv2D(filters=256,padding='same', kernel_size=(4,4), activation='relu'))\n",
    "model_4.add(MaxPooling2D(pool_size=(2,2)))\n",
    "model_4.add(BatchNormalization())\n",
    "model_4.add(Dropout(0.5))\n",
    "\n",
    "model_4.add(Conv2D(filters=512  ,padding='same', kernel_size=(4,4),activation='relu'))\n",
    "model_4.add(MaxPooling2D(pool_size=(2, 2)))\n",
    "model_4.add(BatchNormalization())\n",
    "model_4.add(Dropout(0.5))\n",
    "\n",
    "#Flatten the input data\n",
    "model_4.add(Flatten())\n",
    "\n",
    "#Neural Network\n",
    "model_4.add(Dense(output_dim=128, activation='relu'))\n",
    "model_4.add(BatchNormalization())\n",
    "model_4.add(Dropout(0.5))\n",
    "\n",
    "model_4.add(Dense(output_dim=64, activation='relu'))\n",
    "model_4.add(BatchNormalization())\n",
    "model_4.add(Dropout(0.5))\n",
    "\n",
    "model_4.add(Dense(output_dim=32, activation='relu'))\n",
    "model_4.add(BatchNormalization())\n",
    "model_4.add(Dropout(0.5))\n",
    "\n",
    "#Softmax classifier\n",
    "model_4.add(Dense(output_dim=num_classes, activation='softmax'))\n",
    "\n",
    "model_4.summary()\n"
   ]
  },
  {
   "cell_type": "code",
   "execution_count": 34,
   "metadata": {
    "colab": {
     "base_uri": "https://localhost:8080/",
     "height": 714
    },
    "colab_type": "code",
    "id": "JE1i1Ywd2kq_",
    "outputId": "9111e29b-a32e-4fc1-ab1d-840ff220c50d"
   },
   "outputs": [
    {
     "name": "stdout",
     "output_type": "stream",
     "text": [
      "Train on 60000 samples, validate on 10000 samples\n",
      "Epoch 1/20\n",
      "60000/60000 [==============================] - 37s 614us/step - loss: 1.1421 - acc: 0.6382 - val_loss: 0.1652 - val_acc: 0.9605\n",
      "Epoch 2/20\n",
      "60000/60000 [==============================] - 33s 556us/step - loss: 0.2722 - acc: 0.9339 - val_loss: 0.0472 - val_acc: 0.9884\n",
      "Epoch 3/20\n",
      "60000/60000 [==============================] - 33s 555us/step - loss: 0.1635 - acc: 0.9626 - val_loss: 0.0934 - val_acc: 0.9805\n",
      "Epoch 4/20\n",
      "60000/60000 [==============================] - 33s 555us/step - loss: 0.1296 - acc: 0.9719 - val_loss: 0.0433 - val_acc: 0.9905\n",
      "Epoch 5/20\n",
      "60000/60000 [==============================] - 33s 555us/step - loss: 0.1108 - acc: 0.9767 - val_loss: 0.0470 - val_acc: 0.9902\n",
      "Epoch 6/20\n",
      "60000/60000 [==============================] - 33s 554us/step - loss: 0.1015 - acc: 0.9795 - val_loss: 0.0397 - val_acc: 0.9918\n",
      "Epoch 7/20\n",
      "60000/60000 [==============================] - 33s 554us/step - loss: 0.0937 - acc: 0.9808 - val_loss: 0.0464 - val_acc: 0.9883\n",
      "Epoch 8/20\n",
      "60000/60000 [==============================] - 33s 556us/step - loss: 0.0825 - acc: 0.9835 - val_loss: 0.0409 - val_acc: 0.9915\n",
      "Epoch 9/20\n",
      "60000/60000 [==============================] - 33s 554us/step - loss: 0.0808 - acc: 0.9842 - val_loss: 0.0448 - val_acc: 0.9908\n",
      "Epoch 10/20\n",
      "60000/60000 [==============================] - 33s 556us/step - loss: 0.0772 - acc: 0.9845 - val_loss: 0.0274 - val_acc: 0.9935\n",
      "Epoch 11/20\n",
      "60000/60000 [==============================] - 33s 553us/step - loss: 0.0688 - acc: 0.9866 - val_loss: 0.0345 - val_acc: 0.9924\n",
      "Epoch 12/20\n",
      "60000/60000 [==============================] - 33s 554us/step - loss: 0.0669 - acc: 0.9871 - val_loss: 0.0387 - val_acc: 0.9914\n",
      "Epoch 13/20\n",
      "60000/60000 [==============================] - 33s 555us/step - loss: 0.0641 - acc: 0.9872 - val_loss: 0.0221 - val_acc: 0.9947\n",
      "Epoch 14/20\n",
      "60000/60000 [==============================] - 33s 554us/step - loss: 0.0610 - acc: 0.9885 - val_loss: 0.0304 - val_acc: 0.9937\n",
      "Epoch 15/20\n",
      "60000/60000 [==============================] - 33s 555us/step - loss: 0.0584 - acc: 0.9887 - val_loss: 0.0290 - val_acc: 0.9940\n",
      "Epoch 16/20\n",
      "60000/60000 [==============================] - 33s 553us/step - loss: 0.0564 - acc: 0.9893 - val_loss: 0.0286 - val_acc: 0.9942\n",
      "Epoch 17/20\n",
      "60000/60000 [==============================] - 33s 553us/step - loss: 0.0524 - acc: 0.9898 - val_loss: 0.0280 - val_acc: 0.9937\n",
      "Epoch 18/20\n",
      "60000/60000 [==============================] - 33s 552us/step - loss: 0.0496 - acc: 0.9906 - val_loss: 0.0245 - val_acc: 0.9949\n",
      "Epoch 19/20\n",
      "60000/60000 [==============================] - 33s 553us/step - loss: 0.0497 - acc: 0.9902 - val_loss: 0.0312 - val_acc: 0.9942\n",
      "Epoch 20/20\n",
      "60000/60000 [==============================] - 33s 551us/step - loss: 0.0435 - acc: 0.9918 - val_loss: 0.0247 - val_acc: 0.9949\n"
     ]
    }
   ],
   "source": [
    "model_4.compile(optimizer='adam',loss='categorical_crossentropy',metrics=['accuracy'])\n",
    "\n",
    "history_4=model_4.fit(x_train,y_train,batch_size=100 ,epochs=20,verbose=1,validation_data=(x_test,y_test))\n"
   ]
  },
  {
   "cell_type": "markdown",
   "metadata": {
    "colab_type": "text",
    "id": "y1jIOowT2krE"
   },
   "source": [
    "## Evaluating The built model "
   ]
  },
  {
   "cell_type": "code",
   "execution_count": 35,
   "metadata": {
    "colab": {
     "base_uri": "https://localhost:8080/",
     "height": 51
    },
    "colab_type": "code",
    "id": "Y1BEh_Ut2krK",
    "outputId": "c2dacb25-603d-4489-be36-7307300a3d9a"
   },
   "outputs": [
    {
     "name": "stdout",
     "output_type": "stream",
     "text": [
      "Test score: 0.024707217908122404\n",
      "Test accuracy: 0.9949\n"
     ]
    }
   ],
   "source": [
    "score = model_4.evaluate(x_test, y_test, verbose=0) \n",
    "print('Test score:', score[0]) \n",
    "print('Test accuracy:', score[1])"
   ]
  },
  {
   "cell_type": "markdown",
   "metadata": {
    "colab_type": "text",
    "id": "YJRx5knM2krP"
   },
   "source": [
    "### Dynamic plotting of loss"
   ]
  },
  {
   "cell_type": "code",
   "execution_count": 49,
   "metadata": {
    "colab": {
     "base_uri": "https://localhost:8080/",
     "height": 284
    },
    "colab_type": "code",
    "id": "vPNtMyRs2krP",
    "outputId": "dd087374-07cc-4783-e5ed-8718b5122d70"
   },
   "outputs": [
    {
     "data": {
      "image/png": "[encoded data removed]",
      "text/plain": [
       "<Figure size 432x288 with 1 Axes>"
      ]
     },
     "metadata": {
      "tags": []
     },
     "output_type": "display_data"
    }
   ],
   "source": [
    "vy = history_4.history['val_loss']\n",
    "ty = history_4.history['loss']\n",
    "\n",
    "\n",
    "# list of epoch numbers\n",
    "x = list(range(1,20+1))\n",
    "\n",
    "plt_dynamic(x, vy, ty)"
   ]
  },
  {
   "cell_type": "code",
   "execution_count": 0,
   "metadata": {
    "colab": {},
    "colab_type": "code",
    "id": "-Y8Do8ZW2krR"
   },
   "outputs": [],
   "source": [
    "summary.append(['Model_4',history_4.history['val_loss'][-1],history_4.history['loss'][-1],score[1]])"
   ]
  },
  {
   "cell_type": "markdown",
   "metadata": {
    "colab_type": "text",
    "id": "vQa8ZJcU2krT"
   },
   "source": [
    "### Prediction "
   ]
  },
  {
   "cell_type": "code",
   "execution_count": 50,
   "metadata": {
    "colab": {
     "base_uri": "https://localhost:8080/",
     "height": 231
    },
    "colab_type": "code",
    "id": "T69gOI3N2krU",
    "outputId": "70ac261c-6ac6-4915-81eb-ffd53ef8e9a2"
   },
   "outputs": [
    {
     "data": {
      "text/plain": [
       "<matplotlib.image.AxesImage at 0x7f16213d70b8>"
      ]
     },
     "execution_count": 50,
     "metadata": {
      "tags": []
     },
     "output_type": "execute_result"
    },
    {
     "data": {
      "image/png": "[encoded data removed]",
      "text/plain": [
       "<Figure size 216x216 with 1 Axes>"
      ]
     },
     "metadata": {
      "tags": []
     },
     "output_type": "display_data"
    }
   ],
   "source": [
    "fig1, ax1 = plt.subplots(figsize=(3,3))\n",
    "ax1.imshow(x_train[10].reshape(28,28))\n"
   ]
  },
  {
   "cell_type": "code",
   "execution_count": 39,
   "metadata": {
    "colab": {
     "base_uri": "https://localhost:8080/",
     "height": 51
    },
    "colab_type": "code",
    "id": "MgxN5zeN2krY",
    "outputId": "8d6c5dbd-230e-4059-8808-377c000073f5"
   },
   "outputs": [
    {
     "name": "stdout",
     "output_type": "stream",
     "text": [
      "The Predict value is :\n",
      "3\n"
     ]
    }
   ],
   "source": [
    "print(\"The Predict value is :\")\n",
    "print(model_4.predict(np.array([x_train[10]])).argmax())"
   ]
  },
  {
   "cell_type": "markdown",
   "metadata": {
    "colab_type": "text",
    "id": "Z2bPN1M42kra"
   },
   "source": [
    "## OUTPUT"
   ]
  },
  {
   "cell_type": "code",
   "execution_count": 0,
   "metadata": {
    "colab": {},
    "colab_type": "code",
    "id": "wkIvVRpmGexv"
   },
   "outputs": [],
   "source": [
    "import pandas as pd\n",
    "df=pd.DataFrame(summary)\n",
    "df.columns= ['Model','Test Loss','Train Loss','Test Accuracy']"
   ]
  },
  {
   "cell_type": "code",
   "execution_count": 54,
   "metadata": {
    "colab": {
     "base_uri": "https://localhost:8080/",
     "height": 173
    },
    "colab_type": "code",
    "id": "PfwzFUxRGzjl",
    "outputId": "c98ef4fd-8220-4e06-dfe5-a597591ffee4"
   },
   "outputs": [
    {
     "data": {
      "text/html": [
       "<div>\n",
       "<style scoped>\n",
       "    .dataframe tbody tr th:only-of-type {\n",
       "        vertical-align: middle;\n",
       "    }\n",
       "\n",
       "    .dataframe tbody tr th {\n",
       "        vertical-align: top;\n",
       "    }\n",
       "\n",
       "    .dataframe thead th {\n",
       "        text-align: right;\n",
       "    }\n",
       "</style>\n",
       "<table border=\"1\" class=\"dataframe\">\n",
       "  <thead>\n",
       "    <tr style=\"text-align: right;\">\n",
       "      <th></th>\n",
       "      <th>Model</th>\n",
       "      <th>Test Loss</th>\n",
       "      <th>Train Loss</th>\n",
       "      <th>Test Accuracy</th>\n",
       "    </tr>\n",
       "  </thead>\n",
       "  <tbody>\n",
       "    <tr>\n",
       "      <th>0</th>\n",
       "      <td>Model</td>\n",
       "      <td>0.027720</td>\n",
       "      <td>0.021407</td>\n",
       "      <td>0.9934</td>\n",
       "    </tr>\n",
       "    <tr>\n",
       "      <th>1</th>\n",
       "      <td>Model_1</td>\n",
       "      <td>0.021825</td>\n",
       "      <td>0.037399</td>\n",
       "      <td>0.9931</td>\n",
       "    </tr>\n",
       "    <tr>\n",
       "      <th>2</th>\n",
       "      <td>Model_3</td>\n",
       "      <td>0.018117</td>\n",
       "      <td>0.035522</td>\n",
       "      <td>0.9945</td>\n",
       "    </tr>\n",
       "    <tr>\n",
       "      <th>3</th>\n",
       "      <td>Model_4</td>\n",
       "      <td>0.024707</td>\n",
       "      <td>0.043504</td>\n",
       "      <td>0.9949</td>\n",
       "    </tr>\n",
       "  </tbody>\n",
       "</table>\n",
       "</div>"
      ],
      "text/plain": [
       "     Model  Test Loss  Train Loss  Test Accuracy\n",
       "0    Model   0.027720    0.021407         0.9934\n",
       "1  Model_1   0.021825    0.037399         0.9931\n",
       "2  Model_3   0.018117    0.035522         0.9945\n",
       "3  Model_4   0.024707    0.043504         0.9949"
      ]
     },
     "execution_count": 54,
     "metadata": {
      "tags": []
     },
     "output_type": "execute_result"
    }
   ],
   "source": [
    "df"
   ]
  },
  {
   "cell_type": "code",
   "execution_count": 0,
   "metadata": {
    "colab": {},
    "colab_type": "code",
    "id": "ZCWRPm4gG87T"
   },
   "outputs": [],
   "source": []
  }
 ],
 "metadata": {
  "accelerator": "GPU",
  "colab": {
   "collapsed_sections": [
    "YJRx5knM2krP",
    "vQa8ZJcU2krT"
   ],
   "name": "Assignment_19_MNIST_CNN.ipynb",
   "provenance": [],
   "version": "0.3.2"
  },
  "kernelspec": {
   "display_name": "Python 3",
   "language": "python",
   "name": "python3"
  },
  "language_info": {
   "codemirror_mode": {
    "name": "ipython",
    "version": 3
   },
   "file_extension": ".py",
   "mimetype": "text/x-python",
   "name": "python",
   "nbconvert_exporter": "python",
   "pygments_lexer": "ipython3",
   "version": "3.6.5"
  }
 },
 "nbformat": 4,
 "nbformat_minor": 1
}
